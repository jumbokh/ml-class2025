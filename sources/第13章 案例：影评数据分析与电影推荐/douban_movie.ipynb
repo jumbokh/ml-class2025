{
 "nbformat": 4,
 "nbformat_minor": 2,
 "metadata": {
  "language_info": {
   "name": "python",
   "codemirror_mode": {
    "name": "ipython",
    "version": 3
   },
   "version": "3.7.4-final"
  },
  "orig_nbformat": 2,
  "file_extension": ".py",
  "mimetype": "text/x-python",
  "name": "python",
  "npconvert_exporter": "python",
  "pygments_lexer": "ipython3",
  "version": 3,
  "kernelspec": {
   "name": "python37464bitbasecondaaa7cc90793114334993d045251aa08b4",
   "display_name": "Python 3.7.4 64-bit ('base': conda)"
  }
 },
 "cells": [
  {
   "cell_type": "code",
   "execution_count": null,
   "metadata": {},
   "outputs": [],
   "source": [
    "import pandas as pd\n",
    "# 读入 csv 文件中的数据，sep 代表 csv 的分隔符，name 则是代表每一列的字段名\n",
    "# 返回的是类似二维表的 DataFrame 类型数据 \n",
    "ratings = pd.read_csv(\"./ratings.csv\",sep=\",\",names=[\"user\",\"movie_id\",\"rating\"])\n",
    "movies = pd.read_csv(\"./movies.csv\",sep=\",\",names=[\"movie_id\",\"movie_name\"])"
   ]
  },
  {
   "cell_type": "code",
   "execution_count": null,
   "metadata": {},
   "outputs": [],
   "source": [
    "ratings.head()"
   ]
  },
  {
   "cell_type": "code",
   "execution_count": null,
   "metadata": {},
   "outputs": [],
   "source": [
    "# 按照用户进行分组统计用户评分的次数\n",
    "# groupby 按参数指定的字段进行分组，可以是多个字段\n",
    "# count是对分组后的数据进行计数\n",
    "# sort_values 则是按照某些字段的值进行排序，ascending=False 代表逆序\n",
    "ratings_gb_user = ratings.groupby('user').count().sort_values(by='movie_id', ascending=False)"
   ]
  },
  {
   "cell_type": "code",
   "execution_count": null,
   "metadata": {},
   "outputs": [],
   "source": [
    "ratings_gb_user.head()"
   ]
  },
  {
   "cell_type": "code",
   "execution_count": null,
   "metadata": {},
   "outputs": [],
   "source": [
    "ratings_gb_user.shape"
   ]
  },
  {
   "cell_type": "code",
   "execution_count": null,
   "metadata": {},
   "outputs": [],
   "source": [
    "ratings_gb_user.describe()"
   ]
  },
  {
   "cell_type": "code",
   "execution_count": null,
   "metadata": {},
   "outputs": [],
   "source": [
    "ratings_gb_user.movie_id.hist(bins=50)"
   ]
  },
  {
   "cell_type": "code",
   "execution_count": null,
   "metadata": {},
   "outputs": [],
   "source": [
    "# range 代表需要显示的很坐标的取值范围\n",
    "ratings_gb_user.movie_id.hist(bins=50,range=[1,10])"
   ]
  },
  {
   "cell_type": "code",
   "execution_count": null,
   "metadata": {},
   "outputs": [],
   "source": [
    "# 按照用户进行分组统计用户评分平均值\n",
    "# groupby 按参数指定的字段进行分组，可以是多个字段\n",
    "# count是对分组后的数据进行计数\n",
    "# sort_values 则是按照某些字段的值进行排序，ascending=False 代表逆序\n",
    "user_rating = ratings.groupby('user').mean().sort_values(by='rating', ascending=False)"
   ]
  },
  {
   "cell_type": "code",
   "execution_count": null,
   "metadata": {},
   "outputs": [],
   "source": [
    "user_rating.rating.describe()"
   ]
  },
  {
   "cell_type": "code",
   "execution_count": null,
   "metadata": {},
   "outputs": [],
   "source": [
    "user_rating.head()"
   ]
  },
  {
   "cell_type": "code",
   "execution_count": null,
   "metadata": {},
   "outputs": [],
   "source": [
    "# merge 函数是类似数据库的关联操作\n",
    "# how 参数代表关联的方式，例如 inner 是内关联，left 是左关联， right 代表有关联\n",
    "# on 是关联时使用的键名，由于 ratings 和 movies 对应的电影的字段名是一样的，所以可以写一个，如果不一样则需要使用left_on 和 right_on 参数\n",
    "ratings_gb_user = pd.merge(ratings_gb_user, user_rating, how='left', on='user')"
   ]
  },
  {
   "cell_type": "code",
   "execution_count": null,
   "metadata": {},
   "outputs": [],
   "source": [
    "ratings_gb_user = ratings_gb_user.rename(columns={'movie_id_x':'movie_id','rating_y':'rating'})"
   ]
  },
  {
   "cell_type": "code",
   "execution_count": null,
   "metadata": {},
   "outputs": [],
   "source": [
    "ratings_gb_user.head()"
   ]
  },
  {
   "cell_type": "code",
   "execution_count": null,
   "metadata": {},
   "outputs": [],
   "source": []
  },
  {
   "cell_type": "code",
   "execution_count": null,
   "metadata": {},
   "outputs": [],
   "source": [
    "\n",
    "# 画散点图，可以指定x轴和y轴\n",
    "ratings_gb_user.plot(x='movie_id', y='rating', kind='scatter')"
   ]
  },
  {
   "cell_type": "code",
   "execution_count": null,
   "metadata": {},
   "outputs": [],
   "source": [
    "# 按照用户进行分组统计用户评分的次数\n",
    "# groupby 按参数指定的字段进行分组，可以是多个字段\n",
    "# count是对分组后的数据进行计数\n",
    "# sort_values 则是按照某些字段的值进行排序，ascending=False 代表逆序\n",
    "ratings_gb_movie = ratings.groupby('movie_id').count().sort_values(by='user', ascending=False)"
   ]
  },
  {
   "cell_type": "code",
   "execution_count": null,
   "metadata": {},
   "outputs": [],
   "source": [
    "# merge 函数是类似数据库的关联操作\n",
    "# how 参数代表关联的方式，例如 inner 是内关联，left 是左关联， right 代表有关联\n",
    "# on 是关联时使用的键名，由于 ratings 和 movies 对应的电影的字段名是一样的，所以可以写一个，如果不一样则需要使用left_on 和 right_on 参数\n",
    "ratings_gb_movie = pd.merge(ratings_gb_movie,movies, how='left', on='movie_id')"
   ]
  },
  {
   "cell_type": "code",
   "execution_count": null,
   "metadata": {},
   "outputs": [],
   "source": [
    "ratings_gb_movie.head()"
   ]
  },
  {
   "cell_type": "code",
   "execution_count": null,
   "metadata": {},
   "outputs": [],
   "source": [
    "# 按照用户进行分组统计用户评分平均值\n",
    "# groupby 按参数指定的字段进行分组，可以是多个字段\n",
    "# count是对分组后的数据进行计数\n",
    "# sort_values 则是按照某些字段的值进行排序，ascending=False 代表逆序\n",
    "movie_rating = ratings.groupby('movie_id').mean().sort_values(by='rating', ascending=False)"
   ]
  },
  {
   "cell_type": "code",
   "execution_count": null,
   "metadata": {},
   "outputs": [],
   "source": [
    "movie_rating.head()"
   ]
  },
  {
   "cell_type": "code",
   "execution_count": null,
   "metadata": {},
   "outputs": [],
   "source": [
    "movie_rating.describe()"
   ]
  },
  {
   "cell_type": "code",
   "execution_count": null,
   "metadata": {},
   "outputs": [],
   "source": [
    "movie_rating.plot(use_index=False)"
   ]
  },
  {
   "cell_type": "code",
   "execution_count": null,
   "metadata": {},
   "outputs": [],
   "source": [
    "ratings_gb_movie = pd.merge(ratings_gb_movie, movie_rating, how='left', on='movie_id')"
   ]
  },
  {
   "cell_type": "code",
   "execution_count": null,
   "metadata": {},
   "outputs": [],
   "source": [
    "ratings_gb_movie.head()"
   ]
  },
  {
   "cell_type": "code",
   "execution_count": null,
   "metadata": {},
   "outputs": [],
   "source": [
    "ratings_gb_movie.plot(x='user',y='rating_y',kind='scatter',figsize=(9,6))"
   ]
  },
  {
   "cell_type": "code",
   "execution_count": null,
   "metadata": {},
   "outputs": [],
   "source": [
    "# 根据余弦相似性建立邻近性矩阵\n",
    "ratings_pivot=ratings.pivot('user','movie_id','rating')\n",
    "ratings_pivot.fillna(value=0)\n",
    "m,n=ratings_pivot.shape\n",
    "userdist=np.zeros([m,m])\n",
    "for i in range(m):\n",
    "    for j in range(m):\n",
    "        userdist[i,j]=np.dot(ratings_pivot.iloc[i,],ratings_pivot.iloc[j,]) \\\n",
    "        /np.sqrt(np.dot(ratings_pivot.iloc[i,],ratings_pivot.iloc[i,])\\\n",
    "        *np.dot(ratings_pivot.iloc[j,],ratings_pivot.iloc[j,]))\n",
    "proximity_matrix=pd.DataFrame(userdist,index=list(ratings_pivot.index),columns=list(ratings_pivot.index))"
   ]
  },
  {
   "cell_type": "code",
   "execution_count": null,
   "metadata": {},
   "outputs": [],
   "source": [
    "# 找到临近的 k 个值\n",
    "def find_user_knn(user, proximity_matrix=proximity_matrix, k=10):\n",
    "    nhbrs=userdistdf.sort(user,ascending=False)[user][1:k+1]\n",
    "    #在一列中降序排序，除去第一个（自己）后为近邻\n",
    "    return nhbrs"
   ]
  },
  {
   "cell_type": "code",
   "execution_count": null,
   "metadata": {},
   "outputs": [],
   "source": [
    "# 获取推荐电影的列表\n",
    "def recommend_movie(user, ratings_pivot=ratings_pivot, proximity_matrix=proximity_matrix):\n",
    "    nhbrs=find_user_knn(user, proximity_matrix=proximity_matrix, k=10)\n",
    "    recommendlist={}\n",
    "    for nhbrid in nhbrs.index:\n",
    "        ratings_nhbr=ratings[ratings['user']==nhbrid]\n",
    "        for movie_id in ratings_nhbr['movie_id']:\n",
    "            if movie_id not in recommendlist:\n",
    "                recommendlist[movie_id]=nhbrs[nhbrid]\n",
    "            else:\n",
    "                recommendlist[movie_id]=recommendlist[movie_id]+nhbrs[nhbrid]\n",
    "    # 去除用户已经评分过的电影\n",
    "\tratings_user =ratings[ratings['user']==user]\n",
    "    for movie_id in ratings_user['movie_id']:\n",
    "        if movie_id in recommendlist:\n",
    "            recommendlist.pop(movie_id)\n",
    "    output=pd.Series(recommendlist)\n",
    "    recommendlistdf=pd.DataFrame(output, columns=['score'])\n",
    "    recommendlistdf.index.names=['movie_id']\n",
    "    return recommendlistdf.sort('score',ascending=False)"
   ]
  }
 ]
}